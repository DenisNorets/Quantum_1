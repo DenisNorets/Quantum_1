{
 "cells": [
  {
   "cell_type": "markdown",
   "id": "00e06ecc",
   "metadata": {},
   "source": [
    "Exercise #1"
   ]
  },
  {
   "cell_type": "code",
   "execution_count": 4,
   "id": "ce6aed52",
   "metadata": {},
   "outputs": [
    {
     "name": "stdout",
     "output_type": "stream",
     "text": [
      "Enter positive integer number N: 3\n",
      "Summary result: 6\n"
     ]
    }
   ],
   "source": [
    "try:\n",
    "    N = int(input('Enter positive integer number N: '))\n",
    "    if N <= 0 or N >= 10**25:\n",
    "        raise ValueError\n",
    "    \n",
    "    sum = 0\n",
    "    \n",
    "    for i in range(N+1):\n",
    "        sum += i\n",
    "    print(f'Summary result: {sum}')\n",
    "    \n",
    "except ValueError:\n",
    "    print('Please, input correct positive number less than 10^25')"
   ]
  },
  {
   "cell_type": "markdown",
   "id": "221b7ab2",
   "metadata": {},
   "source": [
    "Exercise #2(Counting islands)\n",
    "1. Get valid data"
   ]
  },
  {
   "cell_type": "code",
   "execution_count": 11,
   "id": "3d05d87f",
   "metadata": {},
   "outputs": [
    {
     "name": "stdout",
     "output_type": "stream",
     "text": [
      "Number of rows: M = 4\n",
      "Number of columns: N = 4\n",
      "Enter rows elements\n",
      "Row №1: 1 0 0 0\n",
      "Row №2: 1 0 1 0\n",
      "Row №3: 0 1 1 1\n",
      "Row №4: 1 0 0 1\n",
      "Result matrix: \n",
      "[[1 0 0 0]\n",
      " [1 0 1 0]\n",
      " [0 1 1 1]\n",
      " [1 0 0 1]]\n"
     ]
    }
   ],
   "source": [
    "import numpy as np\n",
    "try:\n",
    "    M = int(input('Number of rows: M = '))\n",
    "    N = int(input('Number of columns: N = '))\n",
    "    if M <= 0 or N <= 0:\n",
    "        raise ValueError('Array dimensions are incorrect')\n",
    "    \n",
    "    data_matrix = []\n",
    "    print('Enter rows elements')\n",
    "    for i in range(1, M+1):\n",
    "        row = [int(i) for i in input(f'Row №{i}: ').split()]\n",
    "        if len(row) != N:\n",
    "            raise ValueError('Incorrect count of elements in a row')\n",
    "        elif row.count(1)+row.count(0) != N:\n",
    "            raise ValueError('Only 0 and 1 are available')\n",
    "        data_matrix.append(row)\n",
    "    \n",
    "    matrix = np.array(data_matrix)\n",
    "    print(f'Result matrix: \\n{matrix}')\n",
    "\n",
    "except ValueError as e:\n",
    "    print(e)"
   ]
  },
  {
   "cell_type": "markdown",
   "id": "7e495865",
   "metadata": {},
   "source": [
    "2. Get islands count"
   ]
  },
  {
   "cell_type": "code",
   "execution_count": 12,
   "id": "4a3c3895",
   "metadata": {},
   "outputs": [
    {
     "name": "stdout",
     "output_type": "stream",
     "text": [
      "Number of islands: 3\n",
      "[[2 0 0 0]\n",
      " [2 0 3 0]\n",
      " [0 3 3 3]\n",
      " [4 0 0 3]]\n"
     ]
    }
   ],
   "source": [
    "if matrix.any():\n",
    "    \n",
    "    def find_full_island(i, j):\n",
    "        islands_matrix[i][j] = count + 1\n",
    "        if i != 0 and islands_matrix[i-1][j] == 1:\n",
    "            find_full_island(i-1,j)\n",
    "        if i != M-1 and islands_matrix[i+1][j] == 1:\n",
    "            find_full_island(i+1, j)\n",
    "        if j != 0 and islands_matrix[i][j-1] == 1:\n",
    "            find_full_island(i, j-1)\n",
    "        if j != N-1 and islands_matrix[i][j+1] == 1:\n",
    "            find_full_island(i, j+1)\n",
    "        \n",
    "    islands_matrix = np.array(matrix) \n",
    "    count = 0\n",
    "    for i in range(M):\n",
    "        for j in range(N):\n",
    "            if islands_matrix[i][j] == 1:\n",
    "                count += 1\n",
    "                find_full_island(i,j)\n",
    "\n",
    "    print(f'Number of islands: {islands_matrix.max()-1}')\n",
    "    print(islands_matrix)\n",
    "else:\n",
    "    print('There are zero islands')"
   ]
  },
  {
   "cell_type": "code",
   "execution_count": null,
   "id": "40014f3b",
   "metadata": {},
   "outputs": [],
   "source": []
  }
 ],
 "metadata": {
  "kernelspec": {
   "display_name": "Python 3",
   "language": "python",
   "name": "python3"
  },
  "language_info": {
   "codemirror_mode": {
    "name": "ipython",
    "version": 3
   },
   "file_extension": ".py",
   "mimetype": "text/x-python",
   "name": "python",
   "nbconvert_exporter": "python",
   "pygments_lexer": "ipython3",
   "version": "3.8.5"
  }
 },
 "nbformat": 4,
 "nbformat_minor": 5
}
